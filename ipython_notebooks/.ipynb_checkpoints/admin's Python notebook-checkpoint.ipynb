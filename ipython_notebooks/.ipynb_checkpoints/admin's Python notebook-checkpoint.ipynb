{
  "metadata": {
    "kernelspec": {
      "display_name": "Python (env python36)",
      "name": "py-dku-venv-python36",
      "language": "python"
    },
    "language_info": {
      "mimetype": "text/x-python",
      "nbconvert_exporter": "python",
      "version": "3.6.8",
      "name": "python",
      "pygments_lexer": "ipython3",
      "file_extension": ".py",
      "codemirror_mode": {
        "version": 3,
        "name": "ipython"
      }
    },
    "tags": [],
    "createdOn": 1617954830341,
    "creator": "admin",
    "customFields": {},
    "modifiedBy": "admin"
  },
  "nbformat": 4,
  "nbformat_minor": 1,
  "cells": [
    {
      "execution_count": 2,
      "cell_type": "code",
      "metadata": {},
      "source": [
        "%pylab inline"
      ],
      "outputs": [
        {
          "output_type": "stream",
          "name": "stdout",
          "text": "Populating the interactive namespace from numpy and matplotlib\n"
        }
      ]
    },
    {
      "execution_count": 3,
      "cell_type": "code",
      "metadata": {},
      "source": [
        "import dataiku\nfrom dataiku import pandasutils as pdu\nimport pandas as pd\nimport numpy as np\nimport matplotlib.pyplot as plt\nfrom sklearn.metrics import roc_curve, roc_auc_score\nfrom pyopls import OPLS\nfrom sklearn.cross_decomposition import PLSRegression\nfrom sklearn.model_selection import cross_val_predict, LeaveOneOut\nfrom sklearn.metrics import r2_score, accuracy_score"
      ],
      "outputs": []
    },
    {
      "execution_count": 4,
      "cell_type": "code",
      "metadata": {},
      "source": [
        "# Example: load a DSS dataset as a Pandas dataframe\nmydataset \u003d dataiku.Dataset(\"anomaly_detected_clustered\")\ndf \u003d mydataset.get_dataframe()"
      ],
      "outputs": []
    },
    {
      "execution_count": 10,
      "cell_type": "code",
      "metadata": {},
      "source": [
        "y \u003d df[\u0027FreshChicken_SupplierA_Sample1_RunB\u0027]\nX \u003d df.drop([\"cluster_labels\", \u0027FreshChicken_SupplierA_Sample1_RunB\u0027], axis\u003d1)"
      ],
      "outputs": []
    },
    {
      "execution_count": 11,
      "cell_type": "code",
      "metadata": {},
      "source": [
        "opls \u003d OPLS(39)\nZ \u003d opls.fit_transform(X, y)"
      ],
      "outputs": []
    },
    {
      "execution_count": 12,
      "cell_type": "code",
      "metadata": {},
      "source": [
        "Z"
      ],
      "outputs": [
        {
          "output_type": "execute_result",
          "metadata": {},
          "data": {
            "text/plain": "array([[ 0.00256475, -0.24245327, -0.24158684, ..., -0.24284974,\n        -0.24502529, -0.24338489],\n       [ 0.00260829, -0.24693004, -0.24532076, ..., -0.24820801,\n        -0.2473511 , -0.24829677],\n       [ 0.00268034, -0.25241361, -0.25084692, ..., -0.25466573,\n        -0.24934617, -0.25382684],\n       ...,\n       [ 0.01566063, -1.45312948, -1.45370341, ..., -1.45361389,\n        -1.45225728, -1.45245994],\n       [ 0.01566174, -1.45335799, -1.45452233, ..., -1.45435562,\n        -1.45265991, -1.45238819],\n       [ 0.01566347, -1.45429448, -1.45559391, ..., -1.4545756 ,\n        -1.45307807, -1.45279113]])"
          },
          "execution_count": 12
        }
      ]
    },
    {
      "execution_count": 0,
      "cell_type": "code",
      "metadata": {},
      "source": [
        ""
      ],
      "outputs": []
    }
  ]
}